{
 "cells": [
  {
   "cell_type": "markdown",
   "metadata": {},
   "source": [
    "In this report, we will simply generate a ydata_profiling report of the comparison of the two dataframes, as shown in the tutorial: https://pub.towardsai.net/how-to-compare-2-dataset-with-pandas-profiling-2ae3a9d7695e"
   ]
  },
  {
   "cell_type": "code",
   "execution_count": null,
   "metadata": {},
   "outputs": [],
   "source": [
    "# imports\n",
    "import pandas as pd\n",
    "from ydata_profiling import ProfileReport"
   ]
  },
  {
   "cell_type": "code",
   "execution_count": null,
   "metadata": {},
   "outputs": [
    {
     "name": "stderr",
     "output_type": "stream",
     "text": [
      "/var/folders/l_/8124bqnn28vggfsv6f5l0r5h0000gn/T/ipykernel_73264/3485268575.py:1: DtypeWarning: Columns (13,14,15,16,17) have mixed types. Specify dtype option on import or set low_memory=False.\n",
      "  curated_md = pd.read_csv('../data/curated_meta.csv')\n"
     ]
    }
   ],
   "source": [
    "# read the dataframes (original and post modification)\n",
    "curated_md = pd.read_csv('../data/curated_meta.csv')\n",
    "concatenated_md = pd.read_csv('../data/concatenated_meta.csv')"
   ]
  },
  {
   "cell_type": "code",
   "execution_count": 3,
   "metadata": {},
   "outputs": [
    {
     "name": "stderr",
     "output_type": "stream",
     "text": [
      "/Users/shashankkatiyar/miniconda3/envs/gsoc/lib/python3.12/site-packages/ydata_profiling/compare_reports.py:191: UserWarning: The datasets being profiled have a different set of columns. Only the left side profile will be calculated.\n",
      "  warnings.warn(\n",
      "100%|██████████| 37/37 [00:01<00:00, 22.33it/s]2<00:00, 11.62it/s, Describe variable: westernized]                            \n",
      "Summarize dataset: 100%|██████████| 56/56 [00:06<00:00,  8.32it/s, Completed]                     \n",
      "100%|██████████| 24/24 [00:01<00:00, 21.25it/s]1<00:00, 14.64it/s, Describe variable: westernized]            \n",
      "Summarize dataset: 100%|██████████| 43/43 [00:03<00:00, 10.76it/s, Completed]                     \n",
      "Generate report structure: 100%|██████████| 1/1 [00:11<00:00, 11.57s/it]\n",
      "Render HTML: 100%|██████████| 1/1 [00:01<00:00,  1.64s/it]\n",
      "Export report to file: 100%|██████████| 1/1 [00:00<00:00, 39.76it/s]\n"
     ]
    }
   ],
   "source": [
    "# generate the comparison report\n",
    "curated_md_report = ProfileReport(curated_md, title = 'curated_md_report')\n",
    "concatenated_md_report = ProfileReport(concatenated_md, title = 'concatenated_md_report')\n",
    "comparison_report = curated_md_report.compare(concatenated_md_report)\n",
    "comparison_report.to_file('comparison_report.html')"
   ]
  }
 ],
 "metadata": {
  "kernelspec": {
   "display_name": "Python 3",
   "language": "python",
   "name": "python3"
  },
  "language_info": {
   "codemirror_mode": {
    "name": "ipython",
    "version": 3
   },
   "file_extension": ".py",
   "mimetype": "text/x-python",
   "name": "python",
   "nbconvert_exporter": "python",
   "pygments_lexer": "ipython3",
   "version": "3.12.9"
  }
 },
 "nbformat": 4,
 "nbformat_minor": 2
}
