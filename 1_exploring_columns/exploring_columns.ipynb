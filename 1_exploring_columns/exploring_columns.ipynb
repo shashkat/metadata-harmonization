{
 "cells": [
  {
   "cell_type": "markdown",
   "metadata": {},
   "source": [
    "**About:** The purpose of this exploration is to understand the content and types of the columns in curated and new metadata. I ended up only skimming through the report on new metadata, because mainly we are concerned about the curated metadata, as things will be merged to that. The notes I took while going through the report on curated metadata are at the end of this notebook and the final strategy will derive from it."
   ]
  },
  {
   "cell_type": "code",
   "execution_count": 7,
   "metadata": {},
   "outputs": [],
   "source": [
    "# imports\n",
    "from sentence_transformers import SentenceTransformer, util\n",
    "import pandas as pd\n",
    "import numpy as np\n",
    "import seaborn as sns\n",
    "import matplotlib.pyplot as plt\n",
    "from ydata_profiling import ProfileReport"
   ]
  },
  {
   "cell_type": "code",
   "execution_count": 3,
   "metadata": {},
   "outputs": [],
   "source": [
    "# read in the two metadatas as dataframe\n",
    "curated_md = pd.read_csv('../data/curated_meta.csv', low_memory=False)\n",
    "new_md = pd.read_csv('../data/new_meta.csv')"
   ]
  },
  {
   "cell_type": "code",
   "execution_count": 6,
   "metadata": {},
   "outputs": [
    {
     "name": "stderr",
     "output_type": "stream",
     "text": [
      "100%|██████████| 37/37 [00:01<00:00, 28.17it/s]1<00:00, 19.23it/s, Describe variable: westernized]                            \n",
      "Summarize dataset: 100%|██████████| 56/56 [00:05<00:00, 10.04it/s, Completed]                     \n",
      "Generate report structure: 100%|██████████| 1/1 [00:06<00:00,  6.70s/it]\n",
      "Render HTML: 100%|██████████| 1/1 [00:01<00:00,  1.12s/it]\n",
      "Export report to file: 100%|██████████| 1/1 [00:00<00:00, 117.77it/s]\n",
      "100%|██████████| 141/141 [00:00<00:00, 355.99it/s]<00:00, 437.08it/s, Describe variable: eGFR]                             \n",
      "Summarize dataset:  97%|█████████▋| 143/148 [00:00<00:00, 437.08it/s, Calculate auto correlation]/Users/shashankkatiyar/miniconda3/envs/gsoc/lib/python3.12/site-packages/pandas/core/nanops.py:1632: ConstantInputWarning: An input array is constant; the correlation coefficient is not defined.\n",
      "  return spearmanr(a, b)[0]\n",
      "/Users/shashankkatiyar/miniconda3/envs/gsoc/lib/python3.12/site-packages/pandas/core/nanops.py:1632: ConstantInputWarning: An input array is constant; the correlation coefficient is not defined.\n",
      "  return spearmanr(a, b)[0]\n",
      "Summarize dataset: 100%|██████████| 251/251 [00:09<00:00, 27.45it/s, Completed]                                                     \n",
      "Generate report structure: 100%|██████████| 1/1 [00:05<00:00,  5.13s/it]\n",
      "Render HTML: 100%|██████████| 1/1 [00:01<00:00,  1.97s/it]\n",
      "Export report to file: 100%|██████████| 1/1 [00:00<00:00, 82.38it/s]\n"
     ]
    }
   ],
   "source": [
    "# generate reports using ydata_profiling for the columns of curated\n",
    "report1 = ProfileReport(curated_md)\n",
    "report1.to_file('curated_md_report.html')\n",
    "\n",
    "report2 = ProfileReport(new_md)\n",
    "report2.to_file('new_md_report.html')"
   ]
  },
  {
   "cell_type": "markdown",
   "metadata": {},
   "source": [
    "### Notes:\n",
    "\n",
    "At this point, went through the curated report and made the following observations:\n",
    "\n",
    "- some columns don't have NA values, instead some other alternative for when value not there (eg- control). This information will be useful for cases when I can't match any column from new metadata into curated metadata.\n",
    "- some columns are pure categorical type, meaning new values should fit into their existing categories, whereas for some, we can create new categories. For those in which we can add more categories, how to decide merging vs adding needs thought.\n",
    "- some columns are of text type in the report, but still they have some categorical nature (eg- disease, treatment). Just making note here for later reference.\n",
    "    - feces_phenotype_value should be int, but was caught as text in the report.\n",
    "- identifier cols (like sample id) necessarily need to have some col mapping to them (as any study would have identifiers of some kind for all datapoints).\n",
    "- don't have to worry about the ontology-term-columns because their information can be derived from the columns they are for, if those columns have been filled correctly."
   ]
  }
 ],
 "metadata": {
  "kernelspec": {
   "display_name": "Python 3",
   "language": "python",
   "name": "python3"
  },
  "language_info": {
   "codemirror_mode": {
    "name": "ipython",
    "version": 3
   },
   "file_extension": ".py",
   "mimetype": "text/x-python",
   "name": "python",
   "nbconvert_exporter": "python",
   "pygments_lexer": "ipython3",
   "version": "3.12.9"
  }
 },
 "nbformat": 4,
 "nbformat_minor": 2
}
